{
  "nbformat": 4,
  "nbformat_minor": 0,
  "metadata": {
    "colab": {
      "provenance": [],
      "gpuType": "T4",
      "authorship_tag": "ABX9TyO0bUOVQZUAejYu4TdnPM5m",
      "include_colab_link": true
    },
    "kernelspec": {
      "name": "python3",
      "display_name": "Python 3"
    },
    "language_info": {
      "name": "python"
    },
    "accelerator": "GPU"
  },
  "cells": [
    {
      "cell_type": "markdown",
      "metadata": {
        "id": "view-in-github",
        "colab_type": "text"
      },
      "source": [
        "<a href=\"https://colab.research.google.com/github/mohamedAtoui/Champions-League-Data-Analysis/blob/main/Untitled7.ipynb\" target=\"_parent\"><img src=\"https://colab.research.google.com/assets/colab-badge.svg\" alt=\"Open In Colab\"/></a>"
      ]
    },
    {
      "cell_type": "code",
      "execution_count": 30,
      "metadata": {
        "id": "BGgSblrB2Kjo"
      },
      "outputs": [],
      "source": [
        "import random as rd\n",
        "import numpy as np\n",
        "import tensorflow as tf\n",
        "from tensorflow.keras.models import Sequential\n",
        "from tensorflow.keras.layers import LSTM, Dense, Activation\n",
        "from tensorflow.keras.optimizers import RMSprop\n"
      ]
    },
    {
      "cell_type": "markdown",
      "source": [
        "# New Section"
      ],
      "metadata": {
        "id": "uZrT0dDW2SMB"
      }
    },
    {
      "cell_type": "code",
      "source": [
        "############prepareData#########\n",
        "text=open(\"combined.txt\",'rb').read().decode(encoding='utf-8').lower()"
      ],
      "metadata": {
        "id": "ES4cSt0b2gUy"
      },
      "execution_count": 31,
      "outputs": []
    },
    {
      "cell_type": "code",
      "source": [
        "characters=sorted(set(text))"
      ],
      "metadata": {
        "id": "AQqomNoU2i4S"
      },
      "execution_count": 32,
      "outputs": []
    },
    {
      "cell_type": "code",
      "source": [
        "char_to_index={c:i for i,c in enumerate(characters)}"
      ],
      "metadata": {
        "id": "pOj95Y-L2k8O"
      },
      "execution_count": 33,
      "outputs": []
    },
    {
      "cell_type": "code",
      "source": [
        "index_to_char={i:c for i,c in enumerate(characters)}"
      ],
      "metadata": {
        "id": "_E4PxVCe2mod"
      },
      "execution_count": 34,
      "outputs": []
    },
    {
      "cell_type": "code",
      "source": [
        "seq_len=40\n",
        "step_size=3\n",
        "\n",
        "sentences=[]\n",
        "next_characters=[]\n"
      ],
      "metadata": {
        "id": "tOhiL9Jg2oCp"
      },
      "execution_count": 35,
      "outputs": []
    },
    {
      "cell_type": "code",
      "source": [
        "for i in range(0,len(text)-seq_len,step_size):\n",
        "    sentences.append(text[i:i+seq_len])\n",
        "    next_characters.append(text[i+seq_len])\n"
      ],
      "metadata": {
        "id": "bkfl_ZFf2pM9"
      },
      "execution_count": 36,
      "outputs": []
    },
    {
      "cell_type": "code",
      "source": [
        "x = np.zeros((len(sentences), seq_len, len(characters)), dtype=bool)"
      ],
      "metadata": {
        "id": "_Q3U96vi2svN"
      },
      "execution_count": 37,
      "outputs": []
    },
    {
      "cell_type": "code",
      "source": [
        "y=np.zeros((len(sentences),len(characters)),dtype=bool)"
      ],
      "metadata": {
        "id": "5vij2s022tEU"
      },
      "execution_count": 38,
      "outputs": []
    },
    {
      "cell_type": "code",
      "source": [
        "for i, sentence in enumerate(sentences):\n",
        "    for t, character in enumerate(sentence):\n",
        "        if t < seq_len:\n",
        "            x[i, t, char_to_index[character]] = 1\n",
        "    y[i, char_to_index[next_characters[i]]] = 1\n"
      ],
      "metadata": {
        "id": "8Cl4wtr825IV"
      },
      "execution_count": 39,
      "outputs": []
    },
    {
      "cell_type": "code",
      "source": [
        "############NeuralNetwork#############\n",
        "model=Sequential()\n",
        "model.add(LSTM(128,input_shape=(seq_len,len(characters))))\n",
        "model.add(Dense(len(characters)))\n",
        "model.add(Activation('softmax'))\n",
        "\n",
        "model.compile(loss='categorical_crossentropy',optimizer=RMSprop(learning_rate=0.01))\n",
        "model.fit(x,y,batch_size=256, epochs=4)\n"
      ],
      "metadata": {
        "colab": {
          "base_uri": "https://localhost:8080/"
        },
        "id": "bLFZd5ca28Mw",
        "outputId": "21e1ea48-a6d4-4ebd-9244-893d10048378"
      },
      "execution_count": 40,
      "outputs": [
        {
          "output_type": "stream",
          "name": "stdout",
          "text": [
            "Epoch 1/4\n",
            "1484/1484 [==============================] - 10s 6ms/step - loss: 1.8941\n",
            "Epoch 2/4\n",
            "1484/1484 [==============================] - 8s 6ms/step - loss: 1.5253\n",
            "Epoch 3/4\n",
            "1484/1484 [==============================] - 9s 6ms/step - loss: 1.4293\n",
            "Epoch 4/4\n",
            "1484/1484 [==============================] - 9s 6ms/step - loss: 1.3800\n"
          ]
        },
        {
          "output_type": "execute_result",
          "data": {
            "text/plain": [
              "<keras.src.callbacks.History at 0x7db44ede0ac0>"
            ]
          },
          "metadata": {},
          "execution_count": 40
        }
      ]
    },
    {
      "cell_type": "code",
      "source": [
        "def sample(preds, temperature=1.0):\n",
        "    preds = np.asarray(preds).astype('float64')\n",
        "    preds = np.log(preds) / temperature\n",
        "    exp_preds = np.exp(preds)\n",
        "    preds = exp_preds / np.sum(exp_preds)\n",
        "    probas = np.random.multinomial(1, preds, 1)\n",
        "    return np.argmax(probas)"
      ],
      "metadata": {
        "id": "X8XQ61fN2-RI"
      },
      "execution_count": 41,
      "outputs": []
    },
    {
      "cell_type": "code",
      "source": [
        "import random\n",
        "#####text generation function######\n",
        "def generate_text(length, temperature=1.0):\n",
        "  start_index=random.randint(0,len(text)-seq_len-1)\n",
        "  generated = ''\n",
        "  sentence = text[start_index: start_index + seq_len]\n",
        "  generated += sentence\n",
        "  for i in range(length):\n",
        "    x_pred = np.zeros((1, seq_len, len(characters)))\n",
        "    for t, character in enumerate(sentence):\n",
        "        x_pred[0, t, char_to_index[character]] = 1\n",
        "\n",
        "    preds = model.predict(x_pred, verbose=0)[0]\n",
        "    next_index = sample(preds, temperature)\n",
        "    next_char = index_to_char[next_index]\n",
        "\n",
        "    generated += next_char\n",
        "    sentence = sentence[1:] + next_char\n",
        "\n",
        "  return generated\n",
        "\n",
        "\n"
      ],
      "metadata": {
        "id": "CzuAAMQN4R3e"
      },
      "execution_count": 42,
      "outputs": []
    },
    {
      "cell_type": "code",
      "source": [
        "print('---------0.2-------------')\n",
        "print(generate_text(300,temperature=0.2))\n",
        "print('---------0.4-------------')\n",
        "print(generate_text(300,temperature=0.4))\n",
        "print('---------0.6-------------')\n",
        "print(generate_text(300,temperature=0.6))\n"
      ],
      "metadata": {
        "colab": {
          "base_uri": "https://localhost:8080/"
        },
        "id": "MEGa0q2Z4wlo",
        "outputId": "5ffb7050-1b6e-4cba-bcdb-a0bccdd11c62"
      },
      "execution_count": 44,
      "outputs": [
        {
          "output_type": "stream",
          "name": "stdout",
          "text": [
            "---------0.2-------------\n",
            "as all part of some secret path laid out of the the stairs and the small was a belied on the last to harry was a beard to harry to the wand and bellatrix s that her wand and the side of the contant the face of the other was supposed to have been the thing the spot and stopped and the the stairs where the stairs and seemed to have to be th\n",
            "---------0.4-------------\n",
            "l breathing hard through his long nose, and hermione saw the stone had believed the dark long to the contant of a suspanded to the wand of the invisibility and a small back and seemed to get on her wand and there was suspect the thing in the forest of the dark look and severally to the the the shude that he wanted to coming the stairs of \n",
            "---------0.6-------------\n",
            "onto that, instead of wasting their times and arthed close a small of the attentance under the stone looked and came so the potter with really then he was a body to have been clanged the the stone hand. he asked at harry and returned to be disappointed to be that the end of front of the black on all where another beast and see.\n",
            "\"the some\n"
          ]
        }
      ]
    }
  ]
}